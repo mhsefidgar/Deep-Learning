{
  "nbformat": 4,
  "nbformat_minor": 0,
  "metadata": {
    "colab": {
      "name": "DeepConvNeuralNetVisualization.ipynb",
      "provenance": []
    },
    "kernelspec": {
      "name": "python3",
      "display_name": "Python 3"
    },
    "language_info": {
      "name": "python"
    }
  },
  "cells": [
    {
      "cell_type": "code",
      "source": [
        "%%capture\n",
        "!pip install visualkeras"
      ],
      "metadata": {
        "id": "Yr8wB-5rNVqD"
      },
      "execution_count": null,
      "outputs": []
    },
    {
      "cell_type": "code",
      "execution_count": null,
      "metadata": {
        "id": "HYnDstlIM0Qe"
      },
      "outputs": [],
      "source": [
        "#Dependencies\n",
        "import keras\n",
        "from keras.models import Sequential\n",
        "from keras.layers import Dense\n",
        "# Neural network\n",
        "model = Sequential()\n",
        "model.add(Dense(16, input_dim=20, activation=\"relu\"))\n",
        "model.add(Dense(12, activation=\"relu\"))\n",
        "model.add(Dense(4, activation=\"softmax\"))"
      ]
    },
    {
      "cell_type": "code",
      "source": [
        "model = Sequential()\n",
        "model.add(Conv2D(64,(4,4),input_shape=(32,32,3),activation='relu',padding='same'))\n",
        "model.add(MaxPooling2D(pool_size=(2,2)))\n",
        "model.add(Conv2D(64,(4,4),input_shape=(32,32,3),activation='relu',padding='same'))\n",
        "model.add(MaxPooling2D(pool_size=(2,2)))\n",
        "model.add(Dropout(0.2))\n",
        "model.add(Conv2D(128,(4,4),input_shape=(32,32,3),activation='relu',padding='same'))"
      ],
      "metadata": {
        "id": "NQS1R6cLM-c0"
      },
      "execution_count": null,
      "outputs": []
    },
    {
      "cell_type": "code",
      "source": [
        "import visualkeras\n",
        "from PIL import ImageFont\n",
        "\n",
        "visualkeras.layered_view(model, legend=True) # without custom font\n",
        "font = ImageFont.truetype(\"Humor-Sans.ttf\", 12)\n",
        "visualkeras.layered_view(model, legend=True, font=font) # selected font"
      ],
      "metadata": {
        "colab": {
          "base_uri": "https://localhost:8080/",
          "height": 250
        },
        "id": "Jq66G9dqNyAK",
        "outputId": "2cea95a5-f2ee-4187-bc36-4d3cab03274f"
      },
      "execution_count": null,
      "outputs": [
        {
          "output_type": "execute_result",
          "data": {
            "text/plain": [
              "<PIL.Image.Image image mode=RGBA size=217x233 at 0x7FF7ACBC5A10>"
            ],
            "image/png": "[encoded data removed]"
          },
          "metadata": {},
          "execution_count": 56
        }
      ]
    }
  ]
}