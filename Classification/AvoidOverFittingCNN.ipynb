{
  "nbformat": 4,
  "nbformat_minor": 0,
  "metadata": {
    "colab": {
      "name": "Copy of AvoidOverFittingCNN.ipynb",
      "provenance": [],
      "toc_visible": true
    },
    "kernelspec": {
      "name": "python3",
      "display_name": "Python 3"
    },
    "language_info": {
      "name": "python"
    },
    "accelerator": "GPU",
    "gpuClass": "standard"
  },
  "cells": [
    {
      "cell_type": "markdown",
      "source": [
        "#How to avoid over-fitting in CNN keras \n",
        "\n",
        "#Using 2 techniques\n",
        "\n",
        "\n",
        "\n",
        "1.   Modification of the regularization term (l2)\n",
        "2.   DropOut Modification\n",
        "\n"
      ],
      "metadata": {
        "id": "x8wl29AsqNyl"
      }
    },
    {
      "cell_type": "markdown",
      "source": [
        "##Importing mnist handwritting datasets"
      ],
      "metadata": {
        "id": "_Tq9bnGYqV-7"
      }
    },
    {
      "cell_type": "code",
      "execution_count": null,
      "metadata": {
        "id": "TOO_5bKCi_AW"
      },
      "outputs": [],
      "source": [
        "%%capture\n",
        "import tensorflow as tf\n",
        "\n",
        "(x_train, y_train), (x_test, y_test) = tf.keras.datasets.mnist.load_data(path='mnist.npz')"
      ]
    },
    {
      "cell_type": "markdown",
      "source": [
        "##Visualizing datasets"
      ],
      "metadata": {
        "id": "4qRRlV5ZqeTd"
      }
    },
    {
      "cell_type": "code",
      "source": [
        "import matplotlib.pyplot as plt\n",
        "\n",
        "num_imgs = 10\n",
        "plt.figure(figsize=(num_imgs*2,3))\n",
        "\n",
        "for i in range(1,num_imgs):\n",
        "    plt.subplot(1,num_imgs,i).set_title('{}'.format(y_train[i]))\n",
        "    plt.imshow(x_train[i], cmap='gray')\n",
        "    plt.axis('off')\n",
        "plt.show()"
      ],
      "metadata": {
        "colab": {
          "base_uri": "https://localhost:8080/",
          "height": 104
        },
        "id": "vd3KMIDljDZR",
        "outputId": "d5cde3d7-b6db-4d89-bef4-65f3023edae0"
      },
      "execution_count": null,
      "outputs": [
        {
          "output_type": "display_data",
          "data": {
            "text/plain": [
              "<Figure size 1440x216 with 9 Axes>"
            ],
            "image/png": "[encoded data removed]"
          },
          "metadata": {
            "needs_background": "light"
          }
        }
      ]
    },
    {
      "cell_type": "markdown",
      "source": [
        "##Data normalization\n",
        "###Converting the data into range of 0 to 1 from 0 to 255"
      ],
      "metadata": {
        "id": "pn_I90NQjQXO"
      }
    },
    {
      "cell_type": "code",
      "source": [
        "import numpy as np\n",
        "\n",
        "print('Max = {}\\nMin = {}'.format(np.max(x_train), np.min(x_train)))"
      ],
      "metadata": {
        "colab": {
          "base_uri": "https://localhost:8080/"
        },
        "id": "0vKWg5YijPWM",
        "outputId": "434a16aa-a49b-42e1-baca-b86da6c491d5"
      },
      "execution_count": null,
      "outputs": [
        {
          "output_type": "stream",
          "name": "stdout",
          "text": [
            "Max = 255\n",
            "Min = 0\n"
          ]
        }
      ]
    },
    {
      "cell_type": "code",
      "source": [
        "x_train = x_train/255\n",
        "x_test = x_test/255\n",
        "\n",
        "print('Max = {}\\nMin = {}'.format(np.max(x_train), np.min(x_train)))"
      ],
      "metadata": {
        "colab": {
          "base_uri": "https://localhost:8080/"
        },
        "id": "zI0n5mBijkxG",
        "outputId": "f1f254c4-90fd-4a85-9724-6b154ecd2755"
      },
      "execution_count": null,
      "outputs": [
        {
          "output_type": "stream",
          "name": "stdout",
          "text": [
            "Max = 1.0\n",
            "Min = 0.0\n"
          ]
        }
      ]
    },
    {
      "cell_type": "markdown",
      "source": [
        "##One-Hot Encoding\n",
        "###Making data binary from numbers "
      ],
      "metadata": {
        "id": "Z0SW0gwHjxN_"
      }
    },
    {
      "cell_type": "code",
      "source": [
        "num_classes = 10\n",
        "\n",
        "y_train = tf.keras.utils.to_categorical(y_train, num_classes)\n",
        "y_test = tf.keras.utils.to_categorical(y_test, num_classes)\n",
        "\n",
        "print(y_train[:5])"
      ],
      "metadata": {
        "colab": {
          "base_uri": "https://localhost:8080/"
        },
        "id": "7EPZDRUujwdB",
        "outputId": "0ee35f25-f0a4-421f-f989-4d5b1780490e"
      },
      "execution_count": null,
      "outputs": [
        {
          "output_type": "stream",
          "name": "stdout",
          "text": [
            "[[0. 0. 0. 0. 0. 1. 0. 0. 0. 0.]\n",
            " [1. 0. 0. 0. 0. 0. 0. 0. 0. 0.]\n",
            " [0. 0. 0. 0. 1. 0. 0. 0. 0. 0.]\n",
            " [0. 1. 0. 0. 0. 0. 0. 0. 0. 0.]\n",
            " [0. 0. 0. 0. 0. 0. 0. 0. 0. 1.]]\n"
          ]
        }
      ]
    },
    {
      "cell_type": "markdown",
      "source": [
        "##Model creation\n",
        "###Create a CNN"
      ],
      "metadata": {
        "id": "WYWh4sQjkhCU"
      }
    },
    {
      "cell_type": "code",
      "source": [
        "import tensorflow as tf\n",
        "from tensorflow import keras\n",
        "\n",
        "tf.keras.backend.clear_session()\n",
        "\n",
        "input_shape = (28,28)\n",
        "nclasses = 10\n",
        "\n",
        "model = tf.keras.Sequential([\n",
        "                             tf.keras.layers.Flatten(input_shape=input_shape),\n",
        "                             tf.keras.layers.Dense(units=50), \n",
        "                             tf.keras.layers.Activation('tanh'),\n",
        "                             tf.keras.layers.Dense(units=50),\n",
        "                             tf.keras.layers.Activation('tanh'),\n",
        "                             tf.keras.layers.Dense(units=nclasses), \n",
        "                             tf.keras.layers.Activation('sigmoid')\n",
        "                             ])\n",
        "model.summary()\n",
        "\n",
        "\n",
        "'''\n",
        "model = tf.keras.Sequential([\n",
        "                             tf.keras.layers.Flatten(input_shape=input_shape),\n",
        "                             tf.keras.layers.Dense(units=50, kernel_regularizer=tf.keras.regularizers.l2(0.0001)), \n",
        "                             tf.keras.layers.Activation('tanh'),\n",
        "                             tf.keras.layers.Dense(units=50, kernel_regularizer=tf.keras.regularizers.l2(0.0001)),\n",
        "                             tf.keras.layers.Activation('tanh'),\n",
        "                             tf.keras.layers.Dense(units=nclasses), \n",
        "                             tf.keras.layers.Activation('sigmoid')\n",
        "                             ])\n",
        "model.summary()\n",
        "'''"
      ],
      "metadata": {
        "colab": {
          "base_uri": "https://localhost:8080/",
          "height": 547
        },
        "id": "peT0c74pjryK",
        "outputId": "0b85a742-4ba6-4e5a-ea2e-37b7133aa9a3"
      },
      "execution_count": null,
      "outputs": [
        {
          "output_type": "stream",
          "name": "stdout",
          "text": [
            "Model: \"sequential\"\n",
            "_________________________________________________________________\n",
            " Layer (type)                Output Shape              Param #   \n",
            "=================================================================\n",
            " flatten (Flatten)           (None, 784)               0         \n",
            "                                                                 \n",
            " dense (Dense)               (None, 50)                39250     \n",
            "                                                                 \n",
            " activation (Activation)     (None, 50)                0         \n",
            "                                                                 \n",
            " dense_1 (Dense)             (None, 50)                2550      \n",
            "                                                                 \n",
            " activation_1 (Activation)   (None, 50)                0         \n",
            "                                                                 \n",
            " dense_2 (Dense)             (None, 10)                510       \n",
            "                                                                 \n",
            " activation_2 (Activation)   (None, 10)                0         \n",
            "                                                                 \n",
            "=================================================================\n",
            "Total params: 42,310\n",
            "Trainable params: 42,310\n",
            "Non-trainable params: 0\n",
            "_________________________________________________________________\n"
          ]
        },
        {
          "output_type": "execute_result",
          "data": {
            "text/plain": [
              "\"\\nmodel = tf.keras.Sequential([\\n                             tf.keras.layers.Flatten(input_shape=input_shape),\\n                             tf.keras.layers.Dense(units=50, kernel_regularizer=tf.keras.regularizers.l2(0.0001)), \\n                             tf.keras.layers.Activation('tanh'),\\n                             tf.keras.layers.Dense(units=50, kernel_regularizer=tf.keras.regularizers.l2(0.0001)),\\n                             tf.keras.layers.Activation('tanh'),\\n                             tf.keras.layers.Dense(units=nclasses), \\n                             tf.keras.layers.Activation('sigmoid')\\n                             ])\\nmodel.summary()\\n\""
            ],
            "application/vnd.google.colaboratory.intrinsic+json": {
              "type": "string"
            }
          },
          "metadata": {},
          "execution_count": 28
        }
      ]
    },
    {
      "cell_type": "markdown",
      "source": [
        "##Model Training\n",
        "###Optimizer Adam with learning rate 0.0005 "
      ],
      "metadata": {
        "id": "dAou7FKYlS_A"
      }
    },
    {
      "cell_type": "code",
      "source": [
        "optimizer = tf.keras.optimizers.Adam(lr=0.0005)\n",
        "model.compile(optimizer=optimizer, loss='categorical_crossentropy', metrics=['accuracy'])\n",
        "tf_history = model.fit(x_train, y_train, batch_size=100, epochs=20, verbose=True, validation_data=(x_test, y_test))"
      ],
      "metadata": {
        "colab": {
          "base_uri": "https://localhost:8080/"
        },
        "id": "OwRkjYRclSEQ",
        "outputId": "388c8d78-c90e-4e58-cd1c-3da0eeebfeb8"
      },
      "execution_count": null,
      "outputs": [
        {
          "output_type": "stream",
          "name": "stderr",
          "text": [
            "/usr/local/lib/python3.7/dist-packages/keras/optimizer_v2/adam.py:105: UserWarning: The `lr` argument is deprecated, use `learning_rate` instead.\n",
            "  super(Adam, self).__init__(name, **kwargs)\n"
          ]
        },
        {
          "output_type": "stream",
          "name": "stdout",
          "text": [
            "Epoch 1/20\n",
            "600/600 [==============================] - 2s 3ms/step - loss: 0.5101 - accuracy: 0.8678 - val_loss: 0.2687 - val_accuracy: 0.9228\n",
            "Epoch 2/20\n",
            "600/600 [==============================] - 2s 4ms/step - loss: 0.2381 - accuracy: 0.9313 - val_loss: 0.2103 - val_accuracy: 0.9372\n",
            "Epoch 3/20\n",
            "600/600 [==============================] - 2s 3ms/step - loss: 0.1856 - accuracy: 0.9462 - val_loss: 0.1708 - val_accuracy: 0.9493\n",
            "Epoch 4/20\n",
            "600/600 [==============================] - 2s 3ms/step - loss: 0.1512 - accuracy: 0.9556 - val_loss: 0.1516 - val_accuracy: 0.9567\n",
            "Epoch 5/20\n",
            "600/600 [==============================] - 2s 3ms/step - loss: 0.1272 - accuracy: 0.9633 - val_loss: 0.1364 - val_accuracy: 0.9588\n",
            "Epoch 6/20\n",
            "600/600 [==============================] - 2s 3ms/step - loss: 0.1092 - accuracy: 0.9678 - val_loss: 0.1206 - val_accuracy: 0.9635\n",
            "Epoch 7/20\n",
            "600/600 [==============================] - 2s 3ms/step - loss: 0.0954 - accuracy: 0.9727 - val_loss: 0.1103 - val_accuracy: 0.9660\n",
            "Epoch 8/20\n",
            "600/600 [==============================] - 2s 3ms/step - loss: 0.0843 - accuracy: 0.9760 - val_loss: 0.1056 - val_accuracy: 0.9685\n",
            "Epoch 9/20\n",
            "600/600 [==============================] - 2s 3ms/step - loss: 0.0743 - accuracy: 0.9788 - val_loss: 0.1067 - val_accuracy: 0.9682\n",
            "Epoch 10/20\n",
            "600/600 [==============================] - 2s 3ms/step - loss: 0.0669 - accuracy: 0.9809 - val_loss: 0.0946 - val_accuracy: 0.9713\n",
            "Epoch 11/20\n",
            "600/600 [==============================] - 2s 3ms/step - loss: 0.0602 - accuracy: 0.9821 - val_loss: 0.0936 - val_accuracy: 0.9712\n",
            "Epoch 12/20\n",
            "600/600 [==============================] - 2s 3ms/step - loss: 0.0531 - accuracy: 0.9849 - val_loss: 0.0935 - val_accuracy: 0.9703\n",
            "Epoch 13/20\n",
            "600/600 [==============================] - 2s 3ms/step - loss: 0.0484 - accuracy: 0.9861 - val_loss: 0.0927 - val_accuracy: 0.9715\n",
            "Epoch 14/20\n",
            "600/600 [==============================] - 2s 3ms/step - loss: 0.0437 - accuracy: 0.9877 - val_loss: 0.0931 - val_accuracy: 0.9712\n",
            "Epoch 15/20\n",
            "600/600 [==============================] - 2s 3ms/step - loss: 0.0398 - accuracy: 0.9891 - val_loss: 0.0944 - val_accuracy: 0.9714\n",
            "Epoch 16/20\n",
            " 38/600 [>.............................] - ETA: 1s - loss: 0.0293 - accuracy: 0.9932"
          ]
        }
      ]
    },
    {
      "cell_type": "markdown",
      "source": [
        ""
      ],
      "metadata": {
        "id": "-KXr2jZCraZc"
      }
    },
    {
      "cell_type": "markdown",
      "source": [
        "###Visualization of the loss and accuracy"
      ],
      "metadata": {
        "id": "yTtTrYwLrWve"
      }
    },
    {
      "cell_type": "code",
      "source": [
        "plt.figure(figsize=(20,7))\n",
        "\n",
        "plt.subplot(1,2,1)\n",
        "plt.plot(tf_history.history['loss'], label='Training Loss')\n",
        "plt.plot(tf_history.history['val_loss'], label='Validation Loss')\n",
        "plt.legend()\n",
        "\n",
        "plt.subplot(1,2,2)\n",
        "plt.plot(tf_history.history['accuracy'], label='Training Accuracy')\n",
        "plt.plot(tf_history.history['val_accuracy'], label='Validation Accuracy')\n",
        "plt.legend()\n",
        "plt.show()"
      ],
      "metadata": {
        "id": "jPwRJn0Im5uL"
      },
      "execution_count": null,
      "outputs": []
    },
    {
      "cell_type": "markdown",
      "source": [
        "##Modification of the regularization term (l2)"
      ],
      "metadata": {
        "id": "CTkGi6Q-rhLJ"
      }
    },
    {
      "cell_type": "code",
      "source": [
        "import tensorflow as tf\n",
        "from tensorflow import keras\n",
        "\n",
        "tf.keras.backend.clear_session()\n",
        "\n",
        "input_shape = (28,28)\n",
        "nclasses = 10\n",
        "\n",
        "model = tf.keras.Sequential([\n",
        "                             tf.keras.layers.Flatten(input_shape=input_shape),\n",
        "                             tf.keras.layers.Dense(units=50, kernel_regularizer=tf.keras.regularizers.l2(0.0001)), \n",
        "                             tf.keras.layers.Activation('tanh'),\n",
        "                             tf.keras.layers.Dense(units=50, kernel_regularizer=tf.keras.regularizers.l2(0.0001)),\n",
        "                             tf.keras.layers.Activation('tanh'),\n",
        "                             tf.keras.layers.Dense(units=nclasses), \n",
        "                             tf.keras.layers.Activation('sigmoid')\n",
        "                             ])\n",
        "model.summary()\n",
        "\n",
        "optimizer = tf.keras.optimizers.Adam(lr=0.0005)\n",
        "model.compile(optimizer=optimizer, loss='categorical_crossentropy', metrics=['accuracy'])\n",
        "tf_history_reg = model.fit(x_train, y_train, batch_size=100, epochs=20, verbose=True, validation_data=(x_test, y_test))"
      ],
      "metadata": {
        "id": "KG2Rfv2wlfnr"
      },
      "execution_count": null,
      "outputs": []
    },
    {
      "cell_type": "markdown",
      "source": [
        "###Visualization of l2 results"
      ],
      "metadata": {
        "id": "oWNTlsaPruB8"
      }
    },
    {
      "cell_type": "code",
      "source": [
        "plt.figure(figsize=(20,7))\n",
        "\n",
        "plt.subplot(1,2,1)\n",
        "plt.plot(tf_history.history['loss'], label='Training Loss')\n",
        "plt.plot(tf_history.history['val_loss'], label='Validation Loss')\n",
        "plt.plot(tf_history_reg.history['loss'], label='Training Loss with Reg')\n",
        "plt.plot(tf_history_reg.history['val_loss'], label='Validation Loss with Reg', linestyle='--')\n",
        "plt.legend()\n",
        "\n",
        "plt.subplot(1,2,2)\n",
        "plt.plot(tf_history.history['accuracy'], label='Training Accuracy')\n",
        "plt.plot(tf_history.history['val_accuracy'], label='Validation Accuracy')\n",
        "plt.plot(tf_history_reg.history['accuracy'], label='Training Accuracy with Reg')\n",
        "plt.plot(tf_history_reg.history['val_accuracy'], label='Validation Accuracy with Reg', linestyle='--')\n",
        "plt.legend()\n",
        "plt.show()"
      ],
      "metadata": {
        "id": "aBSkUBMcn9tR"
      },
      "execution_count": null,
      "outputs": []
    },
    {
      "cell_type": "markdown",
      "source": [
        "##DropOut Modification\n"
      ],
      "metadata": {
        "id": "w3-4j-TnpEJ6"
      }
    },
    {
      "cell_type": "code",
      "source": [
        "import tensorflow as tf\n",
        "from tensorflow import keras\n",
        "\n",
        "tf.keras.backend.clear_session()\n",
        "\n",
        "input_shape = (28,28)\n",
        "nclasses = 10\n",
        "\n",
        "model = tf.keras.Sequential([\n",
        "                             tf.keras.layers.Flatten(input_shape=input_shape),\n",
        "                             tf.keras.layers.Dense(units=50), \n",
        "                             tf.keras.layers.Activation('tanh'),\n",
        "                             tf.keras.layers.Dropout(0.2),\n",
        "                             tf.keras.layers.Dense(units=50),\n",
        "                             tf.keras.layers.Activation('tanh'),\n",
        "                             tf.keras.layers.Dropout(0.2),\n",
        "                             tf.keras.layers.Dense(units=nclasses), \n",
        "                             tf.keras.layers.Activation('sigmoid')\n",
        "                             ])\n",
        "model.summary()\n",
        "\n",
        "optimizer = tf.keras.optimizers.Adam(lr=0.0001)\n",
        "model.compile(optimizer=optimizer, loss='categorical_crossentropy', metrics=['accuracy'])\n",
        "tf_history_dp = model.fit(x_train, y_train, batch_size=100, epochs=20, verbose=True, validation_data=(x_test, y_test))"
      ],
      "metadata": {
        "id": "tjRzk0xVnLni"
      },
      "execution_count": null,
      "outputs": []
    },
    {
      "cell_type": "markdown",
      "source": [
        "###Visualization of the DropOut Technique"
      ],
      "metadata": {
        "id": "XBkJ541fr5eg"
      }
    },
    {
      "cell_type": "code",
      "source": [
        "plt.figure(figsize=(20,7))\n",
        "\n",
        "plt.subplot(1,2,1)\n",
        "plt.plot(tf_history.history['loss'], label='Training Loss')\n",
        "plt.plot(tf_history.history['val_loss'], label='Validation Loss')\n",
        "plt.plot(tf_history_dp.history['loss'], label='Training Loss with Dp')\n",
        "plt.plot(tf_history_dp.history['val_loss'], label='Validation Loss with Dp', linestyle='--')\n",
        "plt.legend()\n",
        "\n",
        "plt.subplot(1,2,2)\n",
        "plt.plot(tf_history.history['accuracy'], label='Training Accuracy')\n",
        "plt.plot(tf_history.history['val_accuracy'], label='Validation Accuracy')\n",
        "plt.plot(tf_history_dp.history['accuracy'], label='Training Accuracy with Dp')\n",
        "plt.plot(tf_history_dp.history['val_accuracy'], label='Validation Accuracy with Dp', linestyle='--')\n",
        "plt.legend()\n",
        "plt.show()"
      ],
      "metadata": {
        "id": "GLH6liponPy5"
      },
      "execution_count": null,
      "outputs": []
    }
  ]
}
