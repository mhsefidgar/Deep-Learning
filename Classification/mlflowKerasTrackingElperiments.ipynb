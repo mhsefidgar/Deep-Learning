{
  "nbformat": 4,
  "nbformat_minor": 0,
  "metadata": {
    "colab": {
      "name": "mlflowKerasTrackingElperiments.ipynb",
      "provenance": [],
      "collapsed_sections": [],
      "toc_visible": true
    },
    "kernelspec": {
      "name": "python3",
      "display_name": "Python 3"
    }
  },
  "cells": [
    {
      "cell_type": "markdown",
      "metadata": {
        "id": "069YwYEeQyka"
      },
      "source": [
        "# Mlflow keras based experiment tracking implementation in low-level and high level is explained in this tutorial \n",
        "\n",
        "## Mlflow is not limited to Keras it can be used with other machine learning modules such as Pytorch etc."
      ]
    },
    {
      "cell_type": "code",
      "metadata": {
        "id": "TmmQvYgWtEzQ",
        "outputId": "fd20e8fb-c807-4fa5-f798-7d4d1b6c8770",
        "colab": {
          "base_uri": "https://localhost:8080/"
        }
      },
      "source": [
        "%%capture\n",
        "!pip install --quiet mlflow\n",
        "!pip install --quiet pyngrok"
      ],
      "execution_count": null,
      "outputs": [
        {
          "output_type": "stream",
          "name": "stdout",
          "text": [
            "\u001b[K     |████████████████████████████████| 17.0 MB 85 kB/s \n",
            "\u001b[K     |████████████████████████████████| 181 kB 43.6 MB/s \n",
            "\u001b[K     |████████████████████████████████| 209 kB 35.6 MB/s \n",
            "\u001b[K     |████████████████████████████████| 79 kB 3.4 MB/s \n",
            "\u001b[K     |████████████████████████████████| 146 kB 48.0 MB/s \n",
            "\u001b[K     |████████████████████████████████| 77 kB 4.7 MB/s \n",
            "\u001b[K     |████████████████████████████████| 596 kB 32.9 MB/s \n",
            "\u001b[K     |████████████████████████████████| 78 kB 2.9 MB/s \n",
            "\u001b[K     |████████████████████████████████| 54 kB 2.1 MB/s \n",
            "\u001b[K     |████████████████████████████████| 63 kB 1.3 MB/s \n",
            "\u001b[K     |████████████████████████████████| 59 kB 7.2 MB/s \n",
            "\u001b[?25h  Building wheel for databricks-cli (setup.py) ... \u001b[?25l\u001b[?25hdone\n",
            "\u001b[K     |████████████████████████████████| 745 kB 5.0 MB/s \n",
            "\u001b[?25h  Building wheel for pyngrok (setup.py) ... \u001b[?25l\u001b[?25hdone\n"
          ]
        }
      ]
    },
    {
      "cell_type": "markdown",
      "metadata": {
        "id": "WOaUO9ZwtGk0"
      },
      "source": [
        "##The next step would be connecting to activate ngrok engine"
      ]
    },
    {
      "cell_type": "code",
      "metadata": {
        "colab": {
          "base_uri": "https://localhost:8080/"
        },
        "id": "zBQA-K_2uWvy",
        "outputId": "f5c7e22b-c808-47c7-d96b-e5a5b95380b2"
      },
      "source": [
        "import mlflow\n",
        "get_ipython().system_raw(\"mlflow ui --port 5000 &\")\n",
        "\n",
        "from pyngrok import ngrok\n",
        "ngrok.kill()\n",
        "\n",
        "#Login to your ngrok account and go to \"https://dashboard.ngrok.com/get-started/your-authtoken\" url link\n",
        "NGROK_AUTH_TOKEN = \"2DSA5IG0MGfud2XGu9OFaZWfdFU_6WJbxf3X8fZZWVUCxmUVX\"\n",
        "ngrok.set_auth_token(NGROK_AUTH_TOKEN)\n",
        "\n",
        "ngrok_tunnel = ngrok.connect(addr=\"5000\", proto='http', bind_tls=True)\n",
        "print(f\"MLFlow tracking UI : {ngrok_tunnel.public_url}\")\n",
        "#click the link below 👇"
      ],
      "execution_count": null,
      "outputs": [
        {
          "output_type": "stream",
          "name": "stdout",
          "text": [
            "MLFlow tracking UI : https://ae68-34-170-97-96.ngrok.io\n"
          ]
        }
      ]
    },
    {
      "cell_type": "markdown",
      "source": [
        "###Uncomment below to stop the ngrok session"
      ],
      "metadata": {
        "id": "vRxQZWunX_2M"
      }
    },
    {
      "cell_type": "code",
      "source": [
        "#!killall ngrok"
      ],
      "metadata": {
        "id": "Du91BSbOXnoM",
        "outputId": "d784a800-0940-406d-d8ed-1a0813e76069",
        "colab": {
          "base_uri": "https://localhost:8080/"
        }
      },
      "execution_count": null,
      "outputs": [
        {
          "output_type": "stream",
          "name": "stdout",
          "text": [
            "ngrok: no process found\n"
          ]
        }
      ]
    },
    {
      "cell_type": "markdown",
      "metadata": {
        "id": "PlRVzBCmQ3rk"
      },
      "source": [
        "## Stat experiment "
      ]
    },
    {
      "cell_type": "code",
      "metadata": {
        "id": "PAPyhG-I0bSG"
      },
      "source": [
        "#import numpy as np\n",
        "\n",
        "#def traning_your_model():\n",
        "#    return round(np.random.rand(),2)"
      ],
      "execution_count": null,
      "outputs": []
    },
    {
      "cell_type": "code",
      "source": [
        "%%capture\n",
        "from tensorflow.keras.datasets import *\n",
        "from tensorflow.keras import *\n",
        "from tensorflow.keras.backend import *\n",
        "from tensorflow.keras.callbacks import *\n",
        "from tensorflow.keras.optimizers import *\n",
        "from tensorflow.keras.utils import *\n",
        "from tensorflow.keras.layers import *\n",
        "from mlflow.models.signature import infer_signature\n",
        "\n",
        "(x_train, y_train), (x_test, y_test) = mnist.load_data(path='mnist.npz')\n",
        "x_train = x_train/255\n",
        "x_test = x_test/255\n",
        "num_classes = 10\n",
        "y_train = to_categorical(y_train, num_classes)\n",
        "y_test = to_categorical(y_test, num_classes)\n",
        "clear_session()\n",
        "\n",
        "input_shape = (28,28)\n",
        "nclasses = 10\n",
        "\n",
        "model = Sequential([\n",
        "                             Flatten(input_shape=input_shape),\n",
        "                             Dense(units=50), \n",
        "                             layers.Activation('tanh'),\n",
        "                             Dense(units=50),\n",
        "                             Activation('tanh'),\n",
        "                             Dense(units=nclasses), \n",
        "                             Activation('sigmoid')\n",
        "                             ])\n",
        "model.summary()\n",
        "optimizer = Adam(learning_rate=0.0005)\n",
        "model.compile(optimizer=optimizer, loss='categorical_crossentropy', metrics=['accuracy'])\n",
        "#tf_history = model.fit(x_train, y_train, batch_size=100, epochs=20, verbose=True, validation_data=(x_test, y_test))"
      ],
      "metadata": {
        "id": "8hAUnLoJZlgg"
      },
      "execution_count": null,
      "outputs": []
    },
    {
      "cell_type": "code",
      "source": [
        "import datetime\n",
        "import time"
      ],
      "metadata": {
        "id": "5tMyIwQLdCWt"
      },
      "execution_count": null,
      "outputs": []
    },
    {
      "cell_type": "code",
      "source": [
        "model.predict(x_test)"
      ],
      "metadata": {
        "id": "seZBMOr5JJE1",
        "outputId": "18b54ee5-cb73-4c88-9052-ec8dfd6e8287",
        "colab": {
          "base_uri": "https://localhost:8080/"
        }
      },
      "execution_count": null,
      "outputs": [
        {
          "output_type": "execute_result",
          "data": {
            "text/plain": [
              "array([[8.96224022e-01, 1.54507160e-03, 2.05487013e-04, ...,\n",
              "        1.00000000e+00, 3.44716072e-01, 5.55452883e-01],\n",
              "       [4.25368547e-04, 9.99986231e-01, 1.00000000e+00, ...,\n",
              "        1.72641919e-07, 9.99968052e-01, 2.87622213e-04],\n",
              "       [6.54823751e-08, 1.00000000e+00, 9.30206418e-01, ...,\n",
              "        9.41742897e-01, 9.97311831e-01, 2.21222639e-04],\n",
              "       ...,\n",
              "       [5.25887742e-08, 1.60090625e-02, 6.43076419e-06, ...,\n",
              "        9.88218904e-01, 8.17178249e-01, 9.94258761e-01],\n",
              "       [6.91368401e-01, 9.48139859e-05, 3.31433583e-08, ...,\n",
              "        1.18272169e-07, 9.99978900e-01, 8.66094232e-03],\n",
              "       [8.24596584e-01, 2.95811892e-02, 8.07121992e-01, ...,\n",
              "        1.02166595e-08, 7.70959735e-01, 2.42322683e-04]], dtype=float32)"
            ]
          },
          "metadata": {},
          "execution_count": 108
        }
      ]
    },
    {
      "cell_type": "code",
      "source": [
        "\n",
        "signature = infer_signature(x_test, model.predict(x_test))"
      ],
      "metadata": {
        "id": "_zemZb5tIkLc"
      },
      "execution_count": null,
      "outputs": []
    },
    {
      "cell_type": "code",
      "source": [
        "# MNIST CNN \n",
        "#def runCNN():\n",
        "  # Set number of Epochs\n",
        "epochs = 12\n",
        "\n",
        "\n",
        "\n",
        "  # Using Adadelta as our optimizer\n",
        "optimizer = Adadelta(1.0)\n",
        "  # --- CNN Architecture End -------------------------------------------------------\n",
        "  \n",
        "  # MLflow Tracking\n",
        "with mlflow.start_run() as run:\n",
        "   # Record Start time\n",
        "  start_time = time.time()\n",
        "    \n",
        "    # Loss function (crossentropy) and Optimizer (Adadelta)\n",
        "#  model.compile(loss=keras.losses.categorical_crossentropy,\n",
        "#              optimizer=optimizer,\n",
        "#              metrics=['accuracy'])\n",
        "\n",
        "  # Configure for TensorBoard visualization\n",
        "  #   Reference: [Monitor progress of your Keras based neural network using Tensorboard](https://bit.ly/2C36EBJ)\n",
        "  #log_dir = \"logs/fit/\" + datetime.datetime.now().strftime(\"%Y%m%d-%H%M%S\")\n",
        "  #tensorboard_callback = TensorBoard(log_dir=log_dir, histogram_freq=1)\n",
        "  #%load_ext tensorboard\n",
        "  batch_size = 100\n",
        "\n",
        "  # Fit our model\n",
        "  #tf_history = model.fit(x_train, y_train, batch_size=100, epochs=20, verbose=True, validation_data=(x_test, y_test),callbacks=tensorboard_callback)\n",
        "  tf_history = model.fit(x_train, y_train, batch_size=100, epochs=20, verbose=True, validation_data=(x_test, y_test))\n",
        "\n",
        "  # Evaluate our model\n",
        "  score = model.evaluate(x_test, y_test, verbose=0)\n",
        "    \n",
        "  # Record Complete Time and determine Elapsed Time\n",
        "  complete_time = time.time()\n",
        "  elapsed_time = complete_time - start_time\n",
        "\n",
        "  # Log MLflow Parameters\n",
        "  mlflow.log_param(\"mode\", \"single node\")\n",
        "  mlflow.log_param(\"epochs\", epochs)\n",
        "  mlflow.log_param(\"batch_size\", batch_size)\n",
        "  mlflow.log_param(\"num_classes\", num_classes)\n",
        "    \n",
        "  # Log MLflow Metrics\n",
        "  mlflow.log_metric(\"Test Loss\", score[0])\n",
        "  mlflow.log_metric(\"Test Accuracy\", score[1])\n",
        "  mlflow.log_metric(\"Duration\", elapsed_time)\n",
        "  \n",
        "  signature = infer_signature(x_test, model.predict(x_test))\n",
        "  # Log Model\n",
        "  mlflow.keras.log_model(model, \"models\",signature=signature)\n",
        "\n",
        "  # Log TF events to MLflow\n",
        "  mlflow.log_artifacts(log_dir, artifact_path=\"tf.events\")\n",
        "      \n",
        "    # Return RunUUID\n",
        "    #return run.info\n",
        "  \n",
        "  # Close TF session\n",
        "  #sess.close()\n",
        "  \n",
        "  # Complete MLflow Run\n",
        "  mlflow.end_run()  "
      ],
      "metadata": {
        "id": "jOnOmgkPcdZw",
        "outputId": "bb8d88cd-8e49-4690-fd38-858fe641071a",
        "colab": {
          "base_uri": "https://localhost:8080/"
        }
      },
      "execution_count": null,
      "outputs": [
        {
          "output_type": "stream",
          "name": "stdout",
          "text": [
            "The tensorboard extension is already loaded. To reload it, use:\n",
            "  %reload_ext tensorboard\n",
            "Epoch 1/20\n",
            "600/600 [==============================] - 3s 4ms/step - loss: 6.0933e-04 - accuracy: 0.9998 - val_loss: 0.2236 - val_accuracy: 0.9703\n",
            "Epoch 2/20\n",
            "600/600 [==============================] - 3s 4ms/step - loss: 1.8450e-04 - accuracy: 1.0000 - val_loss: 0.2118 - val_accuracy: 0.9722\n",
            "Epoch 3/20\n",
            "600/600 [==============================] - 2s 4ms/step - loss: 4.3790e-05 - accuracy: 1.0000 - val_loss: 0.2106 - val_accuracy: 0.9717\n",
            "Epoch 4/20\n",
            "600/600 [==============================] - 2s 4ms/step - loss: 3.1323e-05 - accuracy: 1.0000 - val_loss: 0.2106 - val_accuracy: 0.9722\n",
            "Epoch 5/20\n",
            "600/600 [==============================] - 2s 4ms/step - loss: 2.7172e-05 - accuracy: 1.0000 - val_loss: 0.2103 - val_accuracy: 0.9727\n",
            "Epoch 6/20\n",
            "600/600 [==============================] - 2s 4ms/step - loss: 2.3914e-05 - accuracy: 1.0000 - val_loss: 0.2102 - val_accuracy: 0.9726\n",
            "Epoch 7/20\n",
            "600/600 [==============================] - 3s 4ms/step - loss: 2.1384e-05 - accuracy: 1.0000 - val_loss: 0.2102 - val_accuracy: 0.9727\n",
            "Epoch 8/20\n",
            "600/600 [==============================] - 3s 5ms/step - loss: 1.8987e-05 - accuracy: 1.0000 - val_loss: 0.2103 - val_accuracy: 0.9733\n",
            "Epoch 9/20\n",
            "600/600 [==============================] - 3s 4ms/step - loss: 1.7100e-05 - accuracy: 1.0000 - val_loss: 0.2107 - val_accuracy: 0.9728\n",
            "Epoch 10/20\n",
            "600/600 [==============================] - 2s 4ms/step - loss: 1.5414e-05 - accuracy: 1.0000 - val_loss: 0.2110 - val_accuracy: 0.9729\n",
            "Epoch 11/20\n",
            "600/600 [==============================] - 2s 4ms/step - loss: 1.3726e-05 - accuracy: 1.0000 - val_loss: 0.2112 - val_accuracy: 0.9729\n",
            "Epoch 12/20\n",
            "600/600 [==============================] - 2s 4ms/step - loss: 1.2206e-05 - accuracy: 1.0000 - val_loss: 0.2121 - val_accuracy: 0.9736\n",
            "Epoch 13/20\n",
            "600/600 [==============================] - 2s 4ms/step - loss: 1.0828e-05 - accuracy: 1.0000 - val_loss: 0.2123 - val_accuracy: 0.9730\n",
            "Epoch 14/20\n",
            "600/600 [==============================] - 2s 4ms/step - loss: 9.6027e-06 - accuracy: 1.0000 - val_loss: 0.2137 - val_accuracy: 0.9735\n",
            "Epoch 15/20\n",
            "600/600 [==============================] - 2s 4ms/step - loss: 8.5838e-06 - accuracy: 1.0000 - val_loss: 0.2150 - val_accuracy: 0.9732\n",
            "Epoch 16/20\n",
            "600/600 [==============================] - 2s 4ms/step - loss: 7.8294e-06 - accuracy: 1.0000 - val_loss: 0.2188 - val_accuracy: 0.9726\n",
            "Epoch 17/20\n",
            "600/600 [==============================] - 2s 4ms/step - loss: 7.1224e-06 - accuracy: 1.0000 - val_loss: 0.2174 - val_accuracy: 0.9730\n",
            "Epoch 18/20\n",
            "600/600 [==============================] - 2s 4ms/step - loss: 6.0820e-06 - accuracy: 1.0000 - val_loss: 0.2190 - val_accuracy: 0.9729\n",
            "Epoch 19/20\n",
            "600/600 [==============================] - 2s 4ms/step - loss: 0.0025 - accuracy: 0.9992 - val_loss: 0.2839 - val_accuracy: 0.9649\n",
            "Epoch 20/20\n",
            "600/600 [==============================] - 3s 5ms/step - loss: 0.0056 - accuracy: 0.9985 - val_loss: 0.2304 - val_accuracy: 0.9731\n"
          ]
        },
        {
          "output_type": "stream",
          "name": "stderr",
          "text": [
            "/usr/local/lib/python3.7/dist-packages/mlflow/keras.py:406: UserWarning: The pyfunc inference behavior of Keras models logged with signatures differs from the behavior of Keras models logged without signatures. Specifically, when a signature is present, passing a Pandas DataFrame as input to the pyfunc `predict()` API produces an `ndarray` (for single-output models) or a dictionary of `str -> ndarray`: (for multi-output models). In contrast, when a signature is *not* present, `predict()` produces a Pandas DataFrame output in response to a Pandas DataFrame input.\n",
            "  \"The pyfunc inference behavior of Keras models logged \"\n",
            "2022/08/17 00:15:30 WARNING mlflow.utils.requirements_utils: Found tensorflow version (2.8.2+zzzcolab20220719082949) contains a local version label (+zzzcolab20220719082949). MLflow logged a pip requirement for this package as 'tensorflow==2.8.2' without the local version label to make it installable from PyPI. To specify pip requirements containing local version labels, please use `conda_env` or `pip_requirements`.\n",
            "2022/08/17 00:15:34 WARNING mlflow.utils.requirements_utils: Found jaxlib version (0.3.14+cuda11.cudnn805) contains a local version label (+cuda11.cudnn805). MLflow logged a pip requirement for this package as 'jaxlib==0.3.14' without the local version label to make it installable from PyPI. To specify pip requirements containing local version labels, please use `conda_env` or `pip_requirements`.\n",
            "2022/08/17 00:15:34 WARNING mlflow.utils.requirements_utils: Found tensorflow version (2.8.2+zzzcolab20220719082949) contains a local version label (+zzzcolab20220719082949). MLflow logged a pip requirement for this package as 'tensorflow==2.8.2' without the local version label to make it installable from PyPI. To specify pip requirements containing local version labels, please use `conda_env` or `pip_requirements`.\n"
          ]
        }
      ]
    },
    {
      "cell_type": "markdown",
      "source": [
        "##Below show you how to autolog the training process"
      ],
      "metadata": {
        "id": "A_gw2LkePPG4"
      }
    },
    {
      "cell_type": "code",
      "metadata": {
        "id": "E_ZQ7XebvCW9",
        "outputId": "9981a26c-7027-4173-932a-aa502b2c0404",
        "colab": {
          "base_uri": "https://localhost:8080/"
        }
      },
      "source": [
        "import mlflow\n",
        "import mlflow.keras\n",
        "# Build, compile, enable autologging, and train your model\n",
        "keras_model = model\n",
        "keras_model.compile(optimizer=\"rmsprop\", loss=\"mse\", metrics=[\"accuracy\"])\n",
        "# autolog your metrics, parameters, and model\n",
        "mlflow.start_run()\n",
        "mlflow.keras.autolog()\n",
        "tf_history = keras_model.fit(x_train, y_train, batch_size=100, epochs=5, verbose=True, validation_data=(x_test, y_test))\n",
        "mlflow.end_run()  \n"
      ],
      "execution_count": null,
      "outputs": [
        {
          "output_type": "stream",
          "name": "stdout",
          "text": [
            "Epoch 1/5\n",
            "600/600 [==============================] - 3s 4ms/step - loss: 9.2030e-05 - accuracy: 0.9997 - val_loss: 0.0050 - val_accuracy: 0.9719\n",
            "Epoch 2/5\n",
            "600/600 [==============================] - 2s 3ms/step - loss: 8.2382e-05 - accuracy: 0.9997 - val_loss: 0.0052 - val_accuracy: 0.9703\n",
            "Epoch 3/5\n",
            "600/600 [==============================] - 2s 4ms/step - loss: 7.7067e-05 - accuracy: 0.9998 - val_loss: 0.0049 - val_accuracy: 0.9725\n",
            "Epoch 4/5\n",
            "600/600 [==============================] - 2s 4ms/step - loss: 7.7561e-05 - accuracy: 0.9997 - val_loss: 0.0051 - val_accuracy: 0.9716\n",
            "Epoch 5/5\n",
            "600/600 [==============================] - 2s 4ms/step - loss: 7.2798e-05 - accuracy: 0.9998 - val_loss: 0.0051 - val_accuracy: 0.9716\n"
          ]
        },
        {
          "output_type": "stream",
          "name": "stderr",
          "text": [
            "2022/08/17 00:32:45 WARNING mlflow.utils.requirements_utils: Found tensorflow version (2.8.2+zzzcolab20220719082949) contains a local version label (+zzzcolab20220719082949). MLflow logged a pip requirement for this package as 'tensorflow==2.8.2' without the local version label to make it installable from PyPI. To specify pip requirements containing local version labels, please use `conda_env` or `pip_requirements`.\n",
            "2022/08/17 00:32:50 WARNING mlflow.utils.requirements_utils: Found jaxlib version (0.3.14+cuda11.cudnn805) contains a local version label (+cuda11.cudnn805). MLflow logged a pip requirement for this package as 'jaxlib==0.3.14' without the local version label to make it installable from PyPI. To specify pip requirements containing local version labels, please use `conda_env` or `pip_requirements`.\n",
            "2022/08/17 00:32:50 WARNING mlflow.utils.requirements_utils: Found tensorflow version (2.8.2+zzzcolab20220719082949) contains a local version label (+zzzcolab20220719082949). MLflow logged a pip requirement for this package as 'tensorflow==2.8.2' without the local version label to make it installable from PyPI. To specify pip requirements containing local version labels, please use `conda_env` or `pip_requirements`.\n"
          ]
        }
      ]
    },
    {
      "cell_type": "markdown",
      "metadata": {
        "id": "FEuxyMSlQ8xw"
      },
      "source": [
        "##hyperOpt (To be integerated)"
      ]
    },
    {
      "cell_type": "markdown",
      "source": [
        "##👏\tCongradulations now you know how to use Mlflow to track your experiment in Colab"
      ],
      "metadata": {
        "id": "V_Howm60lXUY"
      }
    }
  ]
}